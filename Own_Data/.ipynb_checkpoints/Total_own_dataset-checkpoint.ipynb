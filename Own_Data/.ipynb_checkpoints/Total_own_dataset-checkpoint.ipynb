{
 "cells": [
  {
   "cell_type": "code",
   "execution_count": null,
   "metadata": {},
   "outputs": [],
   "source": [
    "import pandas as pd\n",
    "import os\n",
    "\n",
    "dirOnTable = \"onTable\"\n",
    "\n",
    "os.chdir(dirOnTable)\n",
    "Acc_onTable = pd.read_csv(\"Accelerometer.csv\")\n",
    "Gyro_onTable = pd.read_csv(\"Gyroscope.csv\")\n",
    "Mag_onTable = pd.read_csv(\"Magnetometer.csv\")\n",
    "Acc_onTable[\"Time (s)\"] = range(1, len(Acc_onTable) + 1)\n",
    "Gyro_onTable[\"Time (s)\"] = range(1, len(Acc_onTable) + 1)\n",
    "Mag_onTable[\"Time (s)\"] = range(1, len(Acc_onTable) + 1)\n",
    "df_onTable = pd.merge(Acc_onTable, Gyro_onTable, on = 'Time (s)')\n",
    "df_onTable2 = pd.merge(df_onTable, Mag_onTable, on = 'Time (s)')"
   ]
  },
  {
   "cell_type": "code",
   "execution_count": null,
   "metadata": {},
   "outputs": [],
   "source": [
    "df_onTable2"
   ]
  },
  {
   "cell_type": "code",
   "execution_count": null,
   "metadata": {},
   "outputs": [],
   "source": [
    "dirSit = \"Sitting\"\n",
    "\n",
    "os.chdir(dirSit)\n",
    "Acc_Sit = pd.read_csv(\"Accelerometer.csv\")\n",
    "Gyro_Sit = pd.read_csv(\"Gyroscope.csv\")\n",
    "#Mag_Sit = pd.read_csv(\"Magnetometer.csv\")\n",
    "Acc_Sit[\"Time (s)\"] = range(1195, (len(Acc_Sit) + 1195))\n",
    "Gyro_Sit[\"Time (s)\"] = range(1195, (len(Gyro_Sit) + 1195))\n",
    "#Mag_Sit[\"Time (s)\"] = range(1195, (len(Mag_Sit) + 1196))\n",
    "df_Sit = pd.merge(Acc_Sit, Gyro_Sit, on = 'Time (s)')\n",
    "#df_Sit = pd.merge(df_Sit, Mag_Sit, on = 'Time (s)')\n",
    "\n",
    "dirWalk = \"Walking\"\n",
    "os.chdir(dirWalk)\n",
    "Acc_Walk = pd.read_csv(\"Accelerometer.csv\")\n",
    "Gyro_Walk = pd.read_csv(\"Gyroscope.csv\")\n",
    "#Mag_Walk = pd.read_csv(\"Magnetometer.csv\")\n",
    "Acc_Walk[\"Time (s)\"] = range(2392, (len(Acc_Walk) + 2392))\n",
    "Gyro_Walk[\"Time (s)\"] = range(2392, (len(Gyro_Walk) + 2392))\n",
    "#Mag_Walk[\"Time (s)\"] = range(2392, (len(Mag_Walk) + 2392))\n",
    "df_Walk = pd.merge(Acc_Walk, Gyro_Walk, on = 'Time (s)')\n",
    "#df_Walk = pd.merge(df_Walk, Mag_Walk, on = 'Time (s)')\n",
    "\n",
    "\n",
    "dirRun = \"Running\" \n",
    "os.chdir(dirRun)\n",
    "Acc_Run = pd.read_csv(\"Accelerometer.csv\")\n",
    "Gyro_Run = pd.read_csv(\"Gyroscope.csv\")\n",
    "#Mag_Run = pd.read_csv(\"Magnetometer.csv\")\n",
    "Acc_Run[\"Time (s)\"] = range(3590, (len(Acc_Run) + 3590))\n",
    "Gyro_Run[\"Time (s)\"] = range(3590, (len(Gyro_Run) + 3590))\n",
    "#Mag_Run[\"Time (s)\"] = range(3590, (len(Mag_Run) + 3590))\n",
    "df_Run = pd.merge(Acc_Run, Gyro_Run, on = 'Time (s)')\n",
    "#df_Run = pd.merge(df_Run, Mag_Run, on = 'Time (s)')\n",
    "frames = [df_onTable, df_Sit, df_Walk, df_Run]\n",
    "df_all = pd.concat(frames)"
   ]
  },
  {
   "cell_type": "code",
   "execution_count": null,
   "metadata": {},
   "outputs": [],
   "source": [
    "df_all"
   ]
  },
  {
   "cell_type": "code",
   "execution_count": null,
   "metadata": {},
   "outputs": [],
   "source": [
    "import matplotlib.pyplot as plt\n",
    "import numpy as np\n",
    "\n",
    "fig, axs = plt.subplots(2)\n",
    "fig.suptitle('Vertically stacked subplots')\n",
    "axs[0].plot(df_Run[\"Time (s)\"], df_Run[\"Acceleration x (m/s^2)\"])\n",
    "axs[1].plot(df_Walk[\"Time (s)\"], df_Walk[\"Acceleration x (m/s^2)\"])\n"
   ]
  },
  {
   "cell_type": "code",
   "execution_count": null,
   "metadata": {},
   "outputs": [],
   "source": []
  },
  {
   "cell_type": "code",
   "execution_count": 1,
   "metadata": {},
   "outputs": [],
   "source": [
    "import numpy as np\n",
    "import pandas as pd"
   ]
  },
  {
   "cell_type": "code",
   "execution_count": 2,
   "metadata": {},
   "outputs": [],
   "source": [
    "path = 'C:/Users/MICK/Desktop/ML4QS/ML4QS/Own_Data'\n",
    "dirs = ['onTable', 'Sitting', 'Running', 'Walking']\n",
    "sensors = ['Accelerometer', 'Gyroscope']"
   ]
  },
  {
   "cell_type": "code",
   "execution_count": 3,
   "metadata": {},
   "outputs": [],
   "source": [
    "df = pd.DataFrame()\n",
    "timestart = 0\n",
    "\n",
    "for dir_ in dirs:\n",
    "    temp_df = pd.DataFrame()\n",
    "    \n",
    "    for sensor in sensors:\n",
    "        sensordata = pd.read_csv(f'{path}/{dir_}/{sensor}.csv')\n",
    "        sensordata.loc[:, 'Time (s)'] = range(timestart, timestart + len(sensordata))\n",
    "        \n",
    "        temp_df.loc[:, 'Time (s)'] = range(timestart, timestart + len(sensordata))\n",
    "        temp_df = pd.merge(temp_df, sensordata, on='Time (s)')\n",
    "        \n",
    "    timestart += len(sensordata)\n",
    "    temp_df.loc[:, 'Label'] = dir_\n",
    "    df = pd.concat([df, temp_df])\n",
    "        "
   ]
  },
  {
   "cell_type": "code",
   "execution_count": 5,
   "metadata": {},
   "outputs": [],
   "source": [
    "df.to_csv('Own_data.csv', index=False)"
   ]
  },
  {
   "cell_type": "code",
   "execution_count": null,
   "metadata": {},
   "outputs": [],
   "source": []
  }
 ],
 "metadata": {
  "kernelspec": {
   "display_name": "Python 3",
   "language": "python",
   "name": "python3"
  },
  "language_info": {
   "codemirror_mode": {
    "name": "ipython",
    "version": 3
   },
   "file_extension": ".py",
   "mimetype": "text/x-python",
   "name": "python",
   "nbconvert_exporter": "python",
   "pygments_lexer": "ipython3",
   "version": "3.7.4"
  }
 },
 "nbformat": 4,
 "nbformat_minor": 4
}
